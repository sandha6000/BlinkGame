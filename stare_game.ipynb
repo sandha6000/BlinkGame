{
 "cells": [
  {
   "cell_type": "markdown",
   "id": "beb251f1",
   "metadata": {},
   "source": [
    "# Stare Game Using OpenCv and HaarCascade"
   ]
  },
  {
   "cell_type": "code",
   "execution_count": 1,
   "id": "9636debd",
   "metadata": {},
   "outputs": [],
   "source": [
    "import cv2 #importing the libraries\n",
    "import time"
   ]
  },
  {
   "cell_type": "markdown",
   "id": "dde0204e",
   "metadata": {},
   "source": [
    "Download the facecascad and eyescascade from internet"
   ]
  },
  {
   "cell_type": "code",
   "execution_count": 2,
   "id": "08711f39",
   "metadata": {},
   "outputs": [],
   "source": [
    "face_cascade=cv2.CascadeClassifier(r'C:\\Users\\sathya sandha\\Downloads\\haarcascade_frontalface_default.xml')#importing the face_cascade\n",
    "eye_cascade = cv2.CascadeClassifier(r'C:\\Users\\sathya sandha\\Downloads\\haarcascade_eye.xml')#importing the eyes_cascade"
   ]
  },
  {
   "cell_type": "code",
   "execution_count": 6,
   "id": "700af2e9",
   "metadata": {},
   "outputs": [
    {
     "data": {
      "text/plain": [
       "<CascadeClassifier 00000000050B9090>"
      ]
     },
     "execution_count": 6,
     "metadata": {},
     "output_type": "execute_result"
    }
   ],
   "source": [
    "face_cascade #checking if the cascade has imported properly"
   ]
  },
  {
   "cell_type": "code",
   "execution_count": null,
   "id": "2664b1d6",
   "metadata": {},
   "outputs": [],
   "source": [
    "cap = cv2.VideoCapture(0)#starting the video\n",
    "cnt=0\n",
    "t=True\n",
    "ko=True\n",
    "while True:\n",
    "    _,img = cap.read() \n",
    "    #Coverting the recorded image to grayscale\n",
    "    gray = cv2.cvtColor(img, cv2.COLOR_BGR2GRAY)\n",
    "    #Applying filter to remove impurities\n",
    "    gray = cv2.bilateralFilter(gray,5,1,1)\n",
    "    #Detecting the face for region of image to be fed to eye classifier\n",
    "    faces = face_cascade.detectMultiScale(gray, 1.3, 5)#here the coordinates of te detected faces are stored in faces\n",
    "    #starting the time when the face detection startes\n",
    "    if ko==True:\n",
    "        amindha=(time.time())#we get the seconds from the epoch time\n",
    "        ko=False\n",
    "    #if there is a face then this block get executes\n",
    "    if(len(faces)>0):\n",
    "        for (x,y,w,h) in faces:\n",
    "            #rectangle is drawn for the face region\n",
    "            img = cv2.rectangle(img,(x,y),(x+w,y+h),(0,255,0),2)\n",
    "            cv2.putText(img,str(cnt),(100,100),cv2.FONT_HERSHEY_PLAIN, 3,(0,255,0),2)#message is displayed \n",
    "            roi_face = gray[y:y+h,x:x+w]#here in roi_face the face is stored to feed to the eye_cascade\n",
    "            roi_face_clr = img[y:y+h,x:x+w]\n",
    "            #the faces are feeded in eyecascde and the coordinate of the eyes are stored in eyes\n",
    "            eyes = eye_cascade.detectMultiScale(roi_face,1.3,5)\n",
    "            if(len(eyes)==2):\n",
    "                t=True\n",
    "                cv2.putText(img,\"Eye open\",(70,70),cv2.FONT_HERSHEY_PLAIN, 3,(0,255,0),2)\n",
    "            else:\n",
    "                cv2.putText(img, \"Eyes closed!\", (70,70),cv2.FONT_HERSHEY_PLAIN, 2,(255,255,255),2)\n",
    "                if t==True:\n",
    "                    cnt=cnt+1#blink will be counted\n",
    "                    t=False\n",
    "    else:\n",
    "        cv2.putText(img,\n",
    "        \"No face detected\",(100,100),\n",
    "        cv2.FONT_HERSHEY_PLAIN, 3, \n",
    "        (0,255,0),2)\n",
    "  \n",
    "    cv2.imshow('img',img)\n",
    "    a = cv2.waitKey(1)\n",
    "    if(a==ord('q')):\n",
    "        break\n",
    "    #if we blink 5 times then the detection will be stoped and the time for five blinks will be displayed in the console\n",
    "    if(cnt==5):\n",
    "        sat=time.time()\n",
    "        print('a',ami)\n",
    "        bot=sat-amindha\n",
    "        print('You have blinked 5 times in',int(bot),' seconds')\n",
    "        break\n",
    "cap.release()\n",
    "cv2.destroyAllWindows()"
   ]
  }
 ],
 "metadata": {
  "kernelspec": {
   "display_name": "Python 3",
   "language": "python",
   "name": "python3"
  },
  "language_info": {
   "codemirror_mode": {
    "name": "ipython",
    "version": 3
   },
   "file_extension": ".py",
   "mimetype": "text/x-python",
   "name": "python",
   "nbconvert_exporter": "python",
   "pygments_lexer": "ipython3",
   "version": "3.7.10"
  }
 },
 "nbformat": 4,
 "nbformat_minor": 5
}
